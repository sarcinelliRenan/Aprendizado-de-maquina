{
  "nbformat": 4,
  "nbformat_minor": 0,
  "metadata": {
    "colab": {
      "name": "Lista1.ipynb",
      "version": "0.3.2",
      "views": {},
      "default_view": {},
      "provenance": [],
      "collapsed_sections": [
        "AIXikiDFSneI",
        "vnL0ELVAHvgs",
        "4u9KgAway0XY",
        "WdoAucqp9nls",
        "ZiucJE-4wYKE",
        "W04-LaC7SrBO",
        "lrAZswX3TGcW",
        "P56hKXa3JYGI"
      ]
    },
    "kernelspec": {
      "display_name": "Python 3",
      "language": "python",
      "name": "python3"
    }
  },
  "cells": [
    {
      "metadata": {
        "id": "Q2FVNzJIz-lU",
        "colab_type": "text"
      },
      "cell_type": "markdown",
      "source": [
        "# Lista de exercícios 1"
      ]
    },
    {
      "metadata": {
        "id": "f2irilIxz-lW",
        "colab_type": "text"
      },
      "cell_type": "markdown",
      "source": [
        "<br/>**Disciplina**: Aprendizado de Máquina\n",
        "<br/>**Professor**: Dr. Patrick Marques Ciarelli"
      ]
    },
    {
      "metadata": {
        "id": "CfMjYnGzz-lX",
        "colab_type": "text"
      },
      "cell_type": "markdown",
      "source": [
        "**Aluno**: Renan Sarcinelli"
      ]
    },
    {
      "metadata": {
        "id": "QGN46fZkNFbk",
        "colab_type": "code",
        "colab": {
          "autoexec": {
            "startup": false,
            "wait_interval": 0
          },
          "base_uri": "https://localhost:8080/",
          "height": 149
        },
        "outputId": "5f1128a4-0296-4712-e94d-1c704dea420e",
        "executionInfo": {
          "status": "ok",
          "timestamp": 1528682011526,
          "user_tz": 180,
          "elapsed": 4109,
          "user": {
            "displayName": "Renan Sarcinelli",
            "photoUrl": "//lh4.googleusercontent.com/-ymt9ELp1G0w/AAAAAAAAAAI/AAAAAAAAEsg/iSBFlIdzPFk/s50-c-k-no/photo.jpg",
            "userId": "112343690181629890042"
          }
        }
      },
      "cell_type": "code",
      "source": [
        "#UPLOAD da Base de dados para o Ambiente\n",
        "!git clone https://github.com/sarcinelliRenan/Aprendizado-de-maquina.git\n",
        "%cd Aprendizado-de-maquina/Lista1/\n",
        "!ls\n",
        "\n",
        "import numpy as np\n",
        "import matplotlib.pyplot as plt\n",
        "import matplotlib.patches as mpatches\n",
        "import matplotlib.image as mpimg\n",
        "import time\n",
        "\n",
        "import alg\n",
        "import tsne"
      ],
      "execution_count": 1,
      "outputs": [
        {
          "output_type": "stream",
          "text": [
            "Cloning into 'Aprendizado-de-maquina'...\n",
            "remote: Counting objects: 34, done.\u001b[K\n",
            "remote: Compressing objects: 100% (30/30), done.\u001b[K\n",
            "remote: Total 34 (delta 3), reused 33 (delta 2), pack-reused 0\u001b[K\n",
            "Unpacking objects: 100% (34/34), done.\n",
            "/content/Aprendizado-de-maquina/Lista1\n",
            "alg.py\tbases  Images  tsne.py\n"
          ],
          "name": "stdout"
        }
      ]
    },
    {
      "metadata": {
        "id": "AIXikiDFSneI",
        "colab_type": "text"
      },
      "cell_type": "markdown",
      "source": [
        "# Parte I – Pré-Processamento de Dados"
      ]
    },
    {
      "metadata": {
        "id": "Uou0mP7fz-la",
        "colab_type": "text"
      },
      "cell_type": "markdown",
      "source": [
        "## Exe. 1\n",
        "Dada a base de dados CNAE_9_reduzido (em anexo):"
      ]
    },
    {
      "metadata": {
        "id": "vnL0ELVAHvgs",
        "colab_type": "text"
      },
      "cell_type": "markdown",
      "source": [
        "### Letra A\n",
        "\n",
        "Gere um gráfico 2D com os dois componentes principais (uso de PCA) das amostras, identificando cada classe (a base possui 5 classes. O rótulo das amostras está na primeira coluna. Essa coluna não deve ser usada no PCA). Pode usar a função eig do Matlab."
      ]
    },
    {
      "metadata": {
        "id": "q2ft6hHLz-la",
        "colab_type": "code",
        "colab": {
          "autoexec": {
            "startup": false,
            "wait_interval": 0
          },
          "base_uri": "https://localhost:8080/",
          "height": 351
        },
        "outputId": "35f44cbe-598a-4294-a157-47b6bbf9f82c",
        "executionInfo": {
          "status": "ok",
          "timestamp": 1527623062773,
          "user_tz": 180,
          "elapsed": 948,
          "user": {
            "displayName": "Renan Sarcinelli",
            "photoUrl": "//lh4.googleusercontent.com/-ymt9ELp1G0w/AAAAAAAAAAI/AAAAAAAAEsg/iSBFlIdzPFk/s50-c-k-no/photo.jpg",
            "userId": "112343690181629890042"
          }
        }
      },
      "cell_type": "code",
      "source": [
        "rotulated_data = np.genfromtxt('bases/CNAE_9_reduzido.txt', delimiter=' ')\n",
        "\n",
        "data = rotulated_data[:,1:]\n",
        "rotules = rotulated_data[:,0]\n",
        "\n",
        "Y = alg.pca(data)\n",
        "colors = {1:'r',2:'g',3:'b',4:'c',5:'m'}\n",
        "plt.scatter(Y[:, 0], Y[:, 1], 20, np.vectorize(colors.get)(rotules))\n",
        "plt.axis([-2.0,4.0, -2.0,6.0])\n",
        "ax = plt.gca()\n",
        "ax.set_autoscale_on(False) \n",
        "plt.legend(handles=[mpatches.Patch(color='r', label='1'),\n",
        "                    mpatches.Patch(color='g', label='2'),\n",
        "                    mpatches.Patch(color='b', label='3'),\n",
        "                    mpatches.Patch(color='c', label='4'),\n",
        "                    mpatches.Patch(color='m', label='5')])\n",
        "plt.show()\n",
        "       "
      ],
      "execution_count": 7,
      "outputs": [
        {
          "output_type": "display_data",
          "data": {
            "image/png": "[encoded data removed]",
            "text/plain": [
              "<matplotlib.figure.Figure at 0x7ff71425d588>"
            ]
          },
          "metadata": {
            "tags": []
          }
        }
      ]
    },
    {
      "metadata": {
        "id": "4u9KgAway0XY",
        "colab_type": "text"
      },
      "cell_type": "markdown",
      "source": [
        "### Letra B\n",
        "Gere um gráfico 2D com os dois componentes principais (uso de PCA) das amostras, identificando cada classe (a base possui 5 classes). Para este gráfico realize o branqueamento dos dados (isto é, após a aplicação do PCA garantir que a matriz de correlação dos dados seja uma matriz identidade). O que tem de diferente entre os gráficos de a) e b)?\n"
      ]
    },
    {
      "metadata": {
        "id": "me1c-6Jj69p-",
        "colab_type": "text"
      },
      "cell_type": "markdown",
      "source": [
        "Podemos observar que ambos os gráficos possuem a mesma forma, porém em B os dados estão levemente mais bem distribuidos ao longo dos eixos, deixando ambos os eixos em escalas semelhantes "
      ]
    },
    {
      "metadata": {
        "id": "3M7dJtwEzDV8",
        "colab_type": "code",
        "colab": {
          "autoexec": {
            "startup": false,
            "wait_interval": 0
          },
          "base_uri": "https://localhost:8080/",
          "height": 389
        },
        "outputId": "288b0616-820e-427b-ad81-b4be8b940877",
        "executionInfo": {
          "status": "ok",
          "timestamp": 1527620976028,
          "user_tz": 180,
          "elapsed": 1315,
          "user": {
            "displayName": "Renan Sarcinelli",
            "photoUrl": "//lh4.googleusercontent.com/-ymt9ELp1G0w/AAAAAAAAAAI/AAAAAAAAEsg/iSBFlIdzPFk/s50-c-k-no/photo.jpg",
            "userId": "112343690181629890042"
          }
        }
      },
      "cell_type": "code",
      "source": [
        "rotulated_data = np.genfromtxt('bases/CNAE_9_reduzido.txt', delimiter=' ')\n",
        "\n",
        "data = rotulated_data[:,1:]\n",
        "rotules = rotulated_data[:,0]\n",
        "\n",
        "Y = alg.pca(data, branq=True)\n",
        "colors = {1:'r',2:'g',3:'b',4:'c',5:'m'}\n",
        "plt.scatter(Y[:, 0], Y[:, 1], 20, np.vectorize(colors.get)(rotules))\n",
        "plt.axis([-2.0,4.0, -2.0,6.0])\n",
        "ax = plt.gca()\n",
        "ax.set_autoscale_on(False)\n",
        "plt.legend(handles=[mpatches.Patch(color='r', label='1'),\n",
        "                    mpatches.Patch(color='g', label='2'),\n",
        "                    mpatches.Patch(color='b', label='3'),\n",
        "                    mpatches.Patch(color='c', label='4'),\n",
        "                    mpatches.Patch(color='m', label='5')])\n",
        "plt.show()"
      ],
      "execution_count": 36,
      "outputs": [
        {
          "output_type": "stream",
          "text": [
            "/usr/local/lib/python3.6/dist-packages/numpy/core/numeric.py:544: ComplexWarning: Casting complex values to real discards the imaginary part\n",
            "  return array(a, dtype, copy=False, order=order, subok=True)\n"
          ],
          "name": "stderr"
        },
        {
          "output_type": "display_data",
          "data": {
            "image/png": "[encoded data removed]",
            "text/plain": [
              "<matplotlib.figure.Figure at 0x7fdfc9076438>"
            ]
          },
          "metadata": {
            "tags": []
          }
        }
      ]
    },
    {
      "metadata": {
        "id": "WdoAucqp9nls",
        "colab_type": "text"
      },
      "cell_type": "markdown",
      "source": [
        "### Letra C\n",
        "\n",
        "Gere um gráfico 2D usando o t-SNE (pode usar o código disponível em https://lvdmaaten.github.io/tsne/ com os parâmetros default), identificando cada classe (a base possui 5 classes). Lembre-se de não usar a coluna de rótulos para obter a redução de dimensão. "
      ]
    },
    {
      "metadata": {
        "id": "xMNv1hmn68kE",
        "colab_type": "text"
      },
      "cell_type": "markdown",
      "source": [
        ""
      ]
    },
    {
      "metadata": {
        "id": "BvMiAsuX9vvA",
        "colab_type": "code",
        "colab": {
          "autoexec": {
            "startup": false,
            "wait_interval": 0
          },
          "base_uri": "https://localhost:8080/",
          "height": 442
        },
        "outputId": "7d0d7043-f0c0-4b57-f839-cdedf42d7123",
        "executionInfo": {
          "status": "ok",
          "timestamp": 1527623132608,
          "user_tz": 180,
          "elapsed": 42517,
          "user": {
            "displayName": "Renan Sarcinelli",
            "photoUrl": "//lh4.googleusercontent.com/-ymt9ELp1G0w/AAAAAAAAAAI/AAAAAAAAEsg/iSBFlIdzPFk/s50-c-k-no/photo.jpg",
            "userId": "112343690181629890042"
          }
        }
      },
      "cell_type": "code",
      "source": [
        "rotulated_data = np.genfromtxt('bases/CNAE_9_reduzido.txt', delimiter=' ')\n",
        "data = rotulated_data[:,1:]\n",
        "rotules = rotulated_data[:,0]\n",
        "Y = tsne.tsne(data, 2, 50, 20.0)\n",
        "colors = {1:'r',2:'g',3:'b',4:'c',5:'m'}\n",
        "plt.scatter(Y[:, 0], Y[:, 1], 20, np.vectorize(colors.get)(rotules))\n",
        "plt.legend(handles=[mpatches.Patch(color='r', label='1'),\n",
        "                    mpatches.Patch(color='g', label='2'),\n",
        "                    mpatches.Patch(color='b', label='3'),\n",
        "                    mpatches.Patch(color='c', label='4'),\n",
        "                    mpatches.Patch(color='m', label='5')])\n",
        "plt.show()"
      ],
      "execution_count": 9,
      "outputs": [
        {
          "output_type": "stream",
          "text": [
            "Preprocessing the data using PCA...\n",
            "Computing pairwise distances...\n",
            "Computing P-values for point 0 of 600...\n",
            "Computing P-values for point 500 of 600...\n",
            "Mean value of sigma: 0.837328\n"
          ],
          "name": "stdout"
        },
        {
          "output_type": "display_data",
          "data": {
            "image/png": "[encoded data removed]",
            "text/plain": [
              "<matplotlib.figure.Figure at 0x7ff713e99d68>"
            ]
          },
          "metadata": {
            "tags": []
          }
        }
      ]
    },
    {
      "metadata": {
        "id": "YG3vTq5Y5SOA",
        "colab_type": "text"
      },
      "cell_type": "markdown",
      "source": [
        "### Letra D\n",
        "\n",
        "Utilize as primeiras 480 amostras para treinar o classificador vizinho mais próximo (NN) (utilize a distância Euclidiana) e as demais 120 para teste. Calcule a métrica acurácia e informe o valor obtido. Pelo resultado obtido, qual dos gráficos (t-SNE ou PCA) você acha que melhor representou a “realidade” da distribuição dos dados? Por quê?"
      ]
    },
    {
      "metadata": {
        "id": "6DBTy6cv5g0G",
        "colab_type": "text"
      },
      "cell_type": "markdown",
      "source": [
        "O t-SNE parece representar melhor o conjunto de dados, visto que o PCA apresentou as amostras, princpalmente as amostras das classes 1,2,e 3 muito condensadas em uma mesma região tornando a classificassão muito dificil, oque deveria gerar uma baixa acurácia. Enquanto o t-SNE representa as amostras bem distribuidas, com uma distinção clara das classes, com poucas interseções entre as classes, justificando a alta acurácia devido a facilidade da classificação."
      ]
    },
    {
      "metadata": {
        "id": "pNLki1FS5dtq",
        "colab_type": "code",
        "colab": {
          "autoexec": {
            "startup": false,
            "wait_interval": 0
          },
          "base_uri": "https://localhost:8080/",
          "height": 36
        },
        "outputId": "f750b925-d17c-43a2-ba5c-2d4c2cb19f2f",
        "executionInfo": {
          "status": "ok",
          "timestamp": 1527623068556,
          "user_tz": 180,
          "elapsed": 1403,
          "user": {
            "displayName": "Renan Sarcinelli",
            "photoUrl": "//lh4.googleusercontent.com/-ymt9ELp1G0w/AAAAAAAAAAI/AAAAAAAAEsg/iSBFlIdzPFk/s50-c-k-no/photo.jpg",
            "userId": "112343690181629890042"
          }
        }
      },
      "cell_type": "code",
      "source": [
        "raw_data = np.genfromtxt('bases/CNAE_9_reduzido.txt', delimiter=' ')\n",
        "train_data = raw_data[:479,1:]\n",
        "train_rotules = raw_data[:479,0]\n",
        "val_data = raw_data[480:,1:]\n",
        "val_rotules = raw_data[480:,0]\n",
        "classified = alg.kNN(train_data,train_rotules,val_data)\n",
        "\n",
        "print (np.count_nonzero(classified == val_rotules)/ classified.shape[0])"
      ],
      "execution_count": 8,
      "outputs": [
        {
          "output_type": "stream",
          "text": [
            "0.9583333333333334\n"
          ],
          "name": "stdout"
        }
      ]
    },
    {
      "metadata": {
        "id": "ZiucJE-4wYKE",
        "colab_type": "text"
      },
      "cell_type": "markdown",
      "source": [
        "## Exe. 2\n",
        "\n",
        "Dada a base de dados Breast Cancer Wisconsin (Diagnostic) (baixar em https://archive.ics.uci.edu/ml/datasets/Breast+Cancer+Wisconsin+(Diagnostic)):"
      ]
    },
    {
      "metadata": {
        "id": "A4-mULjax8my",
        "colab_type": "text"
      },
      "cell_type": "markdown",
      "source": [
        "### Letra A\n",
        "\n",
        "Obtenha a acurácia de classificação quando usando o classificador vizinho mais próximo (NN) (utilize a distância Euclidiana). Use os dados do arquivo wdbc.data, sendo as primeiras  300 amostras para treino e as demais para teste. Antes, repare os atributos da base de dados e a posição dos rótulos. Quais atributos você pode eliminar da base de dados antes do experimento? Por quê?"
      ]
    },
    {
      "metadata": {
        "id": "kqVD3V0h61Mm",
        "colab_type": "text"
      },
      "cell_type": "markdown",
      "source": [
        "Além do rotulo, presente na segunda coluna o Id, presente na primeira coluna, foi retirado da base de dados pois era apenas um número para identificação das amostras por isso não fornecia informações relacionadas ao diagnóstico da doença. Todos os outros atributos foram utilizados , pois traziam informações referentes as células observadas nas amostras e poderiam conter informações relevantes relacionadas com o diagnóstico"
      ]
    },
    {
      "metadata": {
        "id": "f26g7BLyyHUM",
        "colab_type": "code",
        "colab": {
          "autoexec": {
            "startup": false,
            "wait_interval": 0
          },
          "base_uri": "https://localhost:8080/",
          "height": 36
        },
        "outputId": "6107db55-6e58-45e2-f9a6-7c23e13864b3",
        "executionInfo": {
          "status": "ok",
          "timestamp": 1527623170026,
          "user_tz": 180,
          "elapsed": 927,
          "user": {
            "displayName": "Renan Sarcinelli",
            "photoUrl": "//lh4.googleusercontent.com/-ymt9ELp1G0w/AAAAAAAAAAI/AAAAAAAAEsg/iSBFlIdzPFk/s50-c-k-no/photo.jpg",
            "userId": "112343690181629890042"
          }
        }
      },
      "cell_type": "code",
      "source": [
        "data_rotules = np.genfromtxt('bases/wdbc.data', delimiter=',', dtype=str, usecols=[1])\n",
        "data = np.genfromtxt('bases/wdbc.data', delimiter=',')[:,2:]\n",
        "\n",
        "train_rotules = data_rotules[:299]\n",
        "train_data = data[:299,:]\n",
        "val_rotules = data_rotules[300:]\n",
        "val_data = data[300:,:]\n",
        "\n",
        "classified = alg.kNN(train_data,train_rotules,val_data)\n",
        "\n",
        "print (np.count_nonzero(classified == val_rotules)/ classified.shape[0])"
      ],
      "execution_count": 11,
      "outputs": [
        {
          "output_type": "stream",
          "text": [
            "0.8847583643122676\n"
          ],
          "name": "stdout"
        }
      ]
    },
    {
      "metadata": {
        "id": "rfEZizku6wCI",
        "colab_type": "text"
      },
      "cell_type": "markdown",
      "source": [
        "### Letra B\n",
        "\n",
        "Aplique o PCA sobre os dados de treino e selecione o número de componentes até eles corresponderem a 90% da informação de variância dos dados (conforme mostrado nos slides). Quantos componentes foram selecionados? Calcule a nova acurácia do NN usando as componentes selecionadas. O resultado alterou de forma significativa em relação ao obtido em a)? Qual foi a vantagem observada usando PCA?"
      ]
    },
    {
      "metadata": {
        "id": "n-NpaaWfvBtC",
        "colab_type": "code",
        "colab": {
          "autoexec": {
            "startup": false,
            "wait_interval": 0
          },
          "base_uri": "https://localhost:8080/",
          "height": 55
        },
        "outputId": "35dd9698-11e3-4a4e-84bd-7ed79644b15c",
        "executionInfo": {
          "status": "ok",
          "timestamp": 1527623183029,
          "user_tz": 180,
          "elapsed": 982,
          "user": {
            "displayName": "Renan Sarcinelli",
            "photoUrl": "//lh4.googleusercontent.com/-ymt9ELp1G0w/AAAAAAAAAAI/AAAAAAAAEsg/iSBFlIdzPFk/s50-c-k-no/photo.jpg",
            "userId": "112343690181629890042"
          }
        }
      },
      "cell_type": "code",
      "source": [
        "data_rotules = np.genfromtxt('bases/wdbc.data', delimiter=',', dtype=str, usecols=[1])\n",
        "data = np.genfromtxt('bases/wdbc.data', delimiter=',')[:,2:]\n",
        "\n",
        "data = (data - np.min(data,axis = 0))/(np.max(data,axis = 0)-np.min(data,axis = 0)) #normalizalção de amplitude dos dados\n",
        "#data = data/np.std(data,axis = 0)\n",
        "\n",
        "comp = alg.pca(data,0) # Use 0 to select all components\n",
        "variances = np.var(comp, axis = 0)\n",
        "desired_var = sum(variances)*0.9\n",
        "\n",
        "addition = 0\n",
        "for i in range (0,variances.shape[0]):\n",
        "  addition += variances[i]\n",
        "  if addition >= desired_var:\n",
        "    comp = comp[:,:i]\n",
        "    break\n",
        "\n",
        "print(\"Numero de componentes selecionadas:\",comp.shape[1]+1)\n",
        "\n",
        "train_rotules = data_rotules[:299]\n",
        "train_data = comp[:299,:]\n",
        "val_rotules = data_rotules[300:]\n",
        "val_data = comp[300:,:]\n",
        "\n",
        "classified = alg.kNN(train_data,train_rotules,val_data)\n",
        "\n",
        "print (np.count_nonzero(classified == val_rotules)/ classified.shape[0])\n"
      ],
      "execution_count": 12,
      "outputs": [
        {
          "output_type": "stream",
          "text": [
            "Numero de componentes selecionadas: 6\n",
            "0.9479553903345725\n"
          ],
          "name": "stdout"
        }
      ]
    },
    {
      "metadata": {
        "id": "M2r3nmtV1SUk",
        "colab_type": "text"
      },
      "cell_type": "markdown",
      "source": [
        "### Letra C\n",
        "\n",
        "Outra técnica para redução de dimensionalidade, mas de forma supervisionada, é o Discriminante Linear de Fisher (para duas classes) e a sua versão multiclasse. Quando aplicado este método o tamanho do vetor de características é reduzido para C-1, onde C é o número de classes do problema. Seguindo os slides de http://www.csd.uwo.ca/~olga/Courses/CS434a_541a/Lecture8.pdf (tem um exemplo no meio), obtenha os novos dados após a aplicação de Fisher sobre os dados de treino e obtenha a acurácia do NN sobre o conjunto de teste. Quais as vantagens desta abordagem sobre o PCA?"
      ]
    },
    {
      "metadata": {
        "id": "BWFqIr7SxzKv",
        "colab_type": "text"
      },
      "cell_type": "markdown",
      "source": [
        "O discriminante Linear de fisher é um metodo supervisionado que considera a distribuição de cada classe e projeta as amostras procurando dissociar o maximo possivel as duas classes. Enquanto o PCA é não supervisionado e procura apenas a componente que maximize a dispersão de dados. Por isso o algoritmo de Fisher torna mais facil a cleassificação na maioria dos casos"
      ]
    },
    {
      "metadata": {
        "id": "WpVdISRDTBDq",
        "colab_type": "code",
        "colab": {
          "autoexec": {
            "startup": false,
            "wait_interval": 0
          },
          "base_uri": "https://localhost:8080/",
          "height": 36
        },
        "outputId": "0e07ae60-51f2-44cd-b0a2-8d2a42cfcc74",
        "executionInfo": {
          "status": "ok",
          "timestamp": 1527623198737,
          "user_tz": 180,
          "elapsed": 970,
          "user": {
            "displayName": "Renan Sarcinelli",
            "photoUrl": "//lh4.googleusercontent.com/-ymt9ELp1G0w/AAAAAAAAAAI/AAAAAAAAEsg/iSBFlIdzPFk/s50-c-k-no/photo.jpg",
            "userId": "112343690181629890042"
          }
        }
      },
      "cell_type": "code",
      "source": [
        "r = alg.fisher(data, data_rotules)\n",
        "\n",
        "train_rotules = data_rotules[:299]\n",
        "train_data = r[:299]\n",
        "val_rotules = data_rotules[300:]\n",
        "val_data = r[300:]\n",
        "\n",
        "classified = alg.kNN(train_data,train_rotules,val_data)\n",
        "\n",
        "print (np.count_nonzero(classified == val_rotules)/ classified.shape[0])"
      ],
      "execution_count": 13,
      "outputs": [
        {
          "output_type": "stream",
          "text": [
            "0.9628252788104089\n"
          ],
          "name": "stdout"
        }
      ]
    },
    {
      "metadata": {
        "id": "aPpKZ0ah24si",
        "colab_type": "text"
      },
      "cell_type": "markdown",
      "source": [
        "## Exe. 3\n",
        "\n",
        "A base de dados Nebulosa (disponibilizada em anexo) está contaminada com ruídos, redundâncias, dados incompletos, inconsistências e outliers. Para esta base:\n"
      ]
    },
    {
      "metadata": {
        "id": "Xx3NJlPY4uF-",
        "colab_type": "text"
      },
      "cell_type": "markdown",
      "source": [
        "### Letra A\n",
        "\n",
        "Obtenha os resultados da classificação (métrica acurácia) usando a técnica do vizinho mais próximo (NN) e Rocchio. Utilize a distância Euclidiana e a base de dados crua, sem pré-processamento. Use o conjunto de 143 amostras para treino e o de 28 amostras para teste. Proponha um tratamento para os dados incompletos.\n"
      ]
    },
    {
      "metadata": {
        "id": "1aP_85OA9jHe",
        "colab_type": "text"
      },
      "cell_type": "markdown",
      "source": [
        "Os atributos de ID e Nome do usuário foram desconsiderados. As amostras de treino e validação que possuiam valores faltantes foram descartadas."
      ]
    },
    {
      "metadata": {
        "id": "OWAUhNUX5BjE",
        "colab_type": "code",
        "colab": {
          "autoexec": {
            "startup": false,
            "wait_interval": 0
          },
          "base_uri": "https://localhost:8080/",
          "height": 55
        },
        "outputId": "789f9d4d-d881-473b-8029-0e008618d063",
        "executionInfo": {
          "status": "ok",
          "timestamp": 1527623208377,
          "user_tz": 180,
          "elapsed": 668,
          "user": {
            "displayName": "Renan Sarcinelli",
            "photoUrl": "//lh4.googleusercontent.com/-ymt9ELp1G0w/AAAAAAAAAAI/AAAAAAAAEsg/iSBFlIdzPFk/s50-c-k-no/photo.jpg",
            "userId": "112343690181629890042"
          }
        }
      },
      "cell_type": "code",
      "source": [
        "train_rotulated_data = np.genfromtxt('bases/nebulosa_train.txt', delimiter=' ')[:,2:]\n",
        "train_rotulated_data = np.array([ td for td in train_rotulated_data if not any(alg.isNaN(d) for d in td)])\n",
        "train_data = train_rotulated_data[:,:4]\n",
        "train_rotules = train_rotulated_data[:,5]\n",
        "\n",
        "val_rotulated_data = np.genfromtxt('bases/nebulosa_test.txt', delimiter=' ')[:,2:]\n",
        "val_rotulated_data = np.array([ td for td in val_rotulated_data if not any(alg.isNaN(d) for d in td)])\n",
        "val_data = val_rotulated_data[:,:4]\n",
        "val_rotules = val_rotulated_data[:,5]\n",
        "\n",
        "classified_rocchio = alg.rocchio(train_data,train_rotules,val_data)\n",
        "print (\"Rocchio accuracy = \",np.count_nonzero(classified_rocchio == val_rotules)/ classified_rocchio.shape[0])\n",
        "\n",
        "classified_nn = alg.kNN(train_data,train_rotules,val_data)\n",
        "print (\"NN accuracy = \",np.count_nonzero(classified_nn == val_rotules)/ classified_nn.shape[0])"
      ],
      "execution_count": 14,
      "outputs": [
        {
          "output_type": "stream",
          "text": [
            "Rocchio accuracy =  0.48\n",
            "NN accuracy =  0.72\n"
          ],
          "name": "stdout"
        }
      ]
    },
    {
      "metadata": {
        "id": "5MAZJlov44W2",
        "colab_type": "text"
      },
      "cell_type": "markdown",
      "source": [
        "### Letra B\n",
        "\n",
        "Realize um pré-processamento sobre os dados de forma a reduzir os ruídos, as redundâncias, inconsistências, outliers e a interferência dos dados incompletos. Obtenha os resultados da classificação usando a técnica do vizinho mais próximo (NN) e Rocchio usando a distância Euclidiana e a mesma divisão dos dados.\n"
      ]
    },
    {
      "metadata": {
        "id": "G92BX_URz-wq",
        "colab_type": "text"
      },
      "cell_type": "markdown",
      "source": [
        "Durante o preprocessamento dos dados, primeiramente os dados que estavam fora dos limites descritos pela base de dados com tolerancia de 10% foram substituidos pelo valor mais proximo dentro deste limite, depois as amostras redundantes, ou seja que possuiam todos os atributos e classe iguais foram removias. A seguir as amostras que se distanciavam mais de dois desvios padrão da media da sua classe foram tambem removidos por serem considerados outlayers.  "
      ]
    },
    {
      "metadata": {
        "id": "mbDUqJaT5B-Q",
        "colab_type": "code",
        "colab": {
          "autoexec": {
            "startup": false,
            "wait_interval": 0
          },
          "base_uri": "https://localhost:8080/",
          "height": 55
        },
        "outputId": "564c3659-655e-4093-a06a-c2f8224d0b1a",
        "executionInfo": {
          "status": "ok",
          "timestamp": 1527623281230,
          "user_tz": 180,
          "elapsed": 880,
          "user": {
            "displayName": "Renan Sarcinelli",
            "photoUrl": "//lh4.googleusercontent.com/-ymt9ELp1G0w/AAAAAAAAAAI/AAAAAAAAEsg/iSBFlIdzPFk/s50-c-k-no/photo.jpg",
            "userId": "112343690181629890042"
          }
        }
      },
      "cell_type": "code",
      "source": [
        "def tratamento(rotulated_data):\n",
        "  rotulated_data = np.array([ td for td in rotulated_data if not alg.isNaN(td[-1])])# remove ?\n",
        "  \n",
        "  data_range = np.array([[.9,.9,.9,.9,.9,.9],[3.3,4.4,4.4,4.4,4.4,3.3]])\n",
        "   #remove noise\n",
        "  for d in rotulated_data:\n",
        "    for i,elem in enumerate(d):\n",
        "      if elem < data_range[0,i]:\n",
        "        d[i] = data_range[0,i]\n",
        "      if elem > data_range[1,i]:\n",
        "        d[i] = data_range[1,i]\n",
        "  \n",
        "  rotulated_data = np.unique(rotulated_data[:-1], axis=0)#remove redundances\n",
        "  \n",
        "  rotules = np.unique(rotulated_data[:,-1])\n",
        "  data_by_class = [np.array([x for x in rotulated_data if x[-1]== r])for r in rotules]\n",
        "  \n",
        "  mean_by_class = [np.mean(c, axis=0) for c in data_by_class]\n",
        "  std_by_class = [np.std(c, axis=0) for c in data_by_class]\n",
        "  for j,c in enumerate(data_by_class): #Remove outlayers\n",
        "    for i in range(0,c.shape[1]-1):\n",
        "      for elem in c :\n",
        "        if elem[i] < (mean_by_class[j][i]-2*std_by_class[j][i]) or elem[i] > (mean_by_class[j][i]+2*std_by_class[j][i]) :\n",
        "          elem[i] = mean_by_class[j][i]\n",
        "          \n",
        "  final_result = np.concatenate(tuple(data_by_class))\n",
        "  \n",
        "  return final_result\n",
        "\n",
        "train_rotulated_data = np.genfromtxt('bases/nebulosa_train.txt', delimiter=' ')[:,2:]\n",
        "train_rotulated_data = np.array([ td for td in train_rotulated_data if not any(alg.isNaN(d) for d in td)])\n",
        "train_rotulated_data = tratamento(train_rotulated_data)\n",
        "train_data = train_rotulated_data[:,:4]\n",
        "train_rotules = train_rotulated_data[:,5]\n",
        "\n",
        "val_rotulated_data = np.genfromtxt('bases/nebulosa_test.txt', delimiter=' ')[:,2:]\n",
        "val_rotulated_data = np.array([ td for td in val_rotulated_data if not any(alg.isNaN(d) for d in td)])\n",
        "val_data = val_rotulated_data[:,:4]\n",
        "val_rotules = val_rotulated_data[:,5]\n",
        "\n",
        "classified_rocchio = alg.rocchio(train_data,train_rotules,val_data)\n",
        "print (\"Rocchio accuracy = \",np.count_nonzero(classified_rocchio == val_rotules)/ classified_rocchio.shape[0])\n",
        "\n",
        "classified_nn = alg.kNN(train_data,train_rotules,val_data)\n",
        "print (\"NN accuracy = \",np.count_nonzero(classified_nn == val_rotules)/ classified_nn.shape[0])"
      ],
      "execution_count": 17,
      "outputs": [
        {
          "output_type": "stream",
          "text": [
            "Rocchio accuracy =  0.56\n",
            "NN accuracy =  0.8\n"
          ],
          "name": "stdout"
        }
      ]
    },
    {
      "metadata": {
        "id": "LC9sCcDc47x0",
        "colab_type": "text"
      },
      "cell_type": "markdown",
      "source": [
        "### Letra C\n",
        "\n",
        "Compare os resultados obtidos em a) e b). Qual deles retornou o melhor resultado?"
      ]
    },
    {
      "metadata": {
        "id": "PkA67tsjpGTO",
        "colab_type": "text"
      },
      "cell_type": "markdown",
      "source": [
        "Como esperado o melhor resultado foi obtido na letra b, que sugere um pre processamento dos dados, dado que informações ruidosas e inconsistentes que atrapalhava os classificadores foram removidos"
      ]
    },
    {
      "metadata": {
        "id": "W04-LaC7SrBO",
        "colab_type": "text"
      },
      "cell_type": "markdown",
      "source": [
        "# Parte II – Regressão Linear"
      ]
    },
    {
      "metadata": {
        "id": "MpzuXpnqS18i",
        "colab_type": "text"
      },
      "cell_type": "markdown",
      "source": [
        "## Exe. 4\n",
        "Prove que, para uma quantidade de N amostras com entradas x e saídas t, as equações\n",
        "\n",
        "\\begin{align*}\n",
        "w_0 &= \\bar{t\\vphantom{+1}} - w_1\\bar{x\\vphantom{+1}} \n",
        "& \n",
        "w_1 = \\frac{\\overline{xt\\vphantom{+1}}-\\bar{x\\vphantom{+1}}\\bar{t\\vphantom{+1}}}{\\overline{x^2\\vphantom{+1}}-(\\bar{x\\vphantom{+1}})^2}\n",
        "\\end{align*}\n",
        "\n",
        "sendo:\n",
        "\n",
        "\\begin{align*}\n",
        "\\bar{a\\vphantom{+1}} &= \\frac{1}{N} \\sum_{k=1}^{N}a_k\n",
        "\\end{align*}\n",
        "\n",
        "\n",
        "minimizam a função de perda quadrática média L:\n",
        "\n",
        "\\begin{align*}\n",
        "L &= \\frac{1}{N} \\sum_{k=1}^{N}(t_k - (w_0 + w_1x_k))^2\n",
        "\\end{align*}\n",
        "\n"
      ]
    },
    {
      "metadata": {
        "id": "ASlBMgbhsARh",
        "colab_type": "text"
      },
      "cell_type": "markdown",
      "source": [
        "Para minimizar $L$, precisamos de $w_0$ e $w_1$ tal que a função seja minimizada, ou seja:\n",
        "\n",
        "\n",
        "\\begin{align*}\n",
        "argmin_{w_0, w_1} (\\frac{1}{N} \\sum_{k=1}^{N}(t_k - (w_0 + w_1x_k))^2)\n",
        "\\end{align*}\n",
        "\n",
        "Podemos abordar esse problema de minimização usando os mínimos quadrados, onde:\n",
        "\n",
        "\\begin{align*}\n",
        "\\frac{\\partial L}{\\partial w_0} &= 0\n",
        "& \n",
        "\\frac{\\partial L}{\\partial w_1} &= 0\n",
        "\\end{align*}\n",
        "\n",
        "Derivando em relação a um $w_i$ qualquer, podemos dizer que:\n",
        "\n",
        "\\begin{align*}\n",
        "\\frac{\\partial L}{\\partial w_i} &= \\frac{\\partial}{\\partial w_i} \\left(\\frac{1}{N} \\sum_{k=1}^{N}(t_k - (w_0 + w_1x_k))^2\\right) \\\\\n",
        "&= \\frac{1}{N} \\sum_{k=1}^{N}\\left(\\frac{\\partial}{\\partial w_i} \\left(t_k - (w_0 + w_1x_k)\\right)^2\\right)\n",
        "\\end{align*}\n",
        "\n",
        "Aplicando a Regra da Cadeia, obtemos:\n",
        "\n",
        "\\begin{align*}\n",
        "\\frac{\\partial}{\\partial w_i} \\left(t_k - (w_0 + w_1x_k))^2\\right) &= 2(t_k - (w_0 + w_1x_k))(\\frac{\\partial}{\\partial w_i}(t_k - (w_0 + w_1x_k)))\n",
        "\\end{align*}\n",
        "\n",
        "Logo, podemos dizer que precisamos de um $w_i$ tal que satisfaça a seguinte condição:\n",
        "\n",
        "\\begin{align*}\n",
        "\\frac{1}{N} \\sum_{k=1}^{N}\\left(2(t_k - (w_0 + w_1x_k))(\\frac{\\partial}{\\partial w_i}(t_k - (w_0 + w_1x_k)))\\right) &= 0\n",
        "\\end{align*}\n",
        "\n",
        "Sabendo que:\n",
        "\n",
        "\\begin{align*}\n",
        "\\frac{\\partial}{\\partial w_0}(t_k - (w_0 + w_1x_k))) &= -1 & \\frac{\\partial}{\\partial w_1}(t_k - (w_0 + w_1x_k))) &= -x_k\n",
        "\\end{align*}\n",
        "\n",
        "Podemos concluir, para $w_0$, que:\n",
        "\n",
        "\\begin{align*}\n",
        "\\frac{1}{N} \\sum_{k=1}^{N}(2(w_0 + w_1x_k - t_k)) &= 0 \\\\\n",
        "w_0 &= \\frac{1}{N} \\sum_{k=1}^{N}(t_k - w_1x_k)) \\\\\n",
        "w_0 &= \\bar{t\\vphantom{+1}} - w_1\\bar{x\\vphantom{+1}}\n",
        "\\end{align*}\n",
        "\n",
        "E, para $w_1$, que:\n",
        "\n",
        "\\begin{align*}\n",
        "\\frac{1}{N} \\sum_{k=1}^{N}(2x_k(w_0 + w_1x_k - t_k)) &= 0 \\\\\n",
        "w_0\\overline{x\\vphantom{+1}} + w_1\\overline{x^2\\vphantom{+1}} - \\overline{xt\\vphantom{+1}} &= 0\n",
        "\\end{align*}\n",
        "\n",
        "Substituindo $w_0 = \\bar{t\\vphantom{+1}} - w_1\\bar{x\\vphantom{+1}}$, podemos concluir para $w_1$:\n",
        "\n",
        "\\begin{align*}\n",
        "(\\bar{t} - w_1\\bar{x})\\overline{x\\vphantom{+1}} + w_1\\overline{x^2\\vphantom{+1}} - \\overline{xt\\vphantom{+1}} &= 0 \\\\\n",
        "\\bar{x}\\bar{t} - w_1\\big(\\bar{x}\\big)^2 + w_1\\overline{x^2\\vphantom{+1}} - \\overline{xt\\vphantom{+1}} &= 0 \\\\\n",
        "w_1(\\overline{x^2\\vphantom{+1}} - \\big(\\bar{x})^2\\big) &= \\overline{xt\\vphantom{+1}} - \\bar{x}\\bar{t} \\\\\n",
        "w_1 &= \\frac{\\overline{xt\\vphantom{+1}} - \\bar{x}\\bar{t}}{\\overline{x^2\\vphantom{+1}} - \\big(\\bar{x}\\big)^2} \\\\\n",
        "\\end{align*}"
      ]
    },
    {
      "metadata": {
        "id": "lrAZswX3TGcW",
        "colab_type": "text"
      },
      "cell_type": "markdown",
      "source": [
        "## Exe.5\n",
        "\n",
        "Para a base de dados Runner (disponibilizada em anexo) obtenha:"
      ]
    },
    {
      "metadata": {
        "id": "kv0v5CaWTM6G",
        "colab_type": "text"
      },
      "cell_type": "markdown",
      "source": [
        "### Letra A\n",
        "\n",
        "A equação linear que se ajusta aos dados e a RMSE;"
      ]
    },
    {
      "metadata": {
        "id": "NaIVMyH3TSUO",
        "colab_type": "code",
        "colab": {
          "autoexec": {
            "startup": false,
            "wait_interval": 0
          },
          "base_uri": "https://localhost:8080/",
          "height": 55
        },
        "outputId": "8bc7e558-c551-46e9-ee06-3c1ad8e3c2fe",
        "executionInfo": {
          "status": "ok",
          "timestamp": 1527623312933,
          "user_tz": 180,
          "elapsed": 652,
          "user": {
            "displayName": "Renan Sarcinelli",
            "photoUrl": "//lh4.googleusercontent.com/-ymt9ELp1G0w/AAAAAAAAAAI/AAAAAAAAEsg/iSBFlIdzPFk/s50-c-k-no/photo.jpg",
            "userId": "112343690181629890042"
          }
        }
      },
      "cell_type": "code",
      "source": [
        "data = np.genfromtxt('bases/Runner_num.txt', delimiter='\\t')\n",
        "#data = np.array([[1,4.8],[3,11.3],[5,17.2]])\n",
        "coef = alg.reg_lin(data[:,0], data[:,1])\n",
        "if coef[1] > 0:\n",
        "  print(\"t = %.2f + %.2fx\" % (coef[0],coef[1]))\n",
        "else:\n",
        "  print(\"t = %.2f - %.2fx\" % (coef[0],abs(coef[1])))\n",
        "  \n",
        "print(\"RMSE = %.2f\" % alg.RMSE(data[:,0], data[:,1],coef))"
      ],
      "execution_count": 18,
      "outputs": [
        {
          "output_type": "stream",
          "text": [
            "t = 35.55 - 0.01x\n",
            "RMSE = 0.22\n"
          ],
          "name": "stdout"
        }
      ]
    },
    {
      "metadata": {
        "id": "QTx3bKcgLbn-",
        "colab_type": "text"
      },
      "cell_type": "markdown",
      "source": [
        "### Letra B\n",
        "\n",
        "Predizer o resultado para o ano de 2020;"
      ]
    },
    {
      "metadata": {
        "id": "o_pROQz6coRY",
        "colab_type": "code",
        "colab": {
          "autoexec": {
            "startup": false,
            "wait_interval": 0
          },
          "base_uri": "https://localhost:8080/",
          "height": 36
        },
        "outputId": "f737cc24-de77-440f-bcf1-b000a0683901",
        "executionInfo": {
          "status": "ok",
          "timestamp": 1527623321454,
          "user_tz": 180,
          "elapsed": 886,
          "user": {
            "displayName": "Renan Sarcinelli",
            "photoUrl": "//lh4.googleusercontent.com/-ymt9ELp1G0w/AAAAAAAAAAI/AAAAAAAAEsg/iSBFlIdzPFk/s50-c-k-no/photo.jpg",
            "userId": "112343690181629890042"
          }
        }
      },
      "cell_type": "code",
      "source": [
        "print(\"Previsão de resultado para 2020 : %.2f s\" % (coef[0]+coef[1]*2020))"
      ],
      "execution_count": 19,
      "outputs": [
        {
          "output_type": "stream",
          "text": [
            "Previsão de resultado para 2020 : 9.53 s\n"
          ],
          "name": "stdout"
        }
      ]
    },
    {
      "metadata": {
        "id": "-XMneKqw_DpP",
        "colab_type": "text"
      },
      "cell_type": "markdown",
      "source": [
        "### Letra C \n",
        "\n",
        "Utilize o teste de hipótese de Kendall para verificar se existe dependência entre os atributos. Realize o teste para 5% e 1% de nível de significância. Informe os resultados;"
      ]
    },
    {
      "metadata": {
        "id": "lO6zZbNa_W2E",
        "colab_type": "code",
        "colab": {
          "autoexec": {
            "startup": false,
            "wait_interval": 0
          },
          "base_uri": "https://localhost:8080/",
          "height": 55
        },
        "outputId": "5f32ab07-4ad1-44a1-84ca-0ff337fa5ece",
        "executionInfo": {
          "status": "ok",
          "timestamp": 1527623368269,
          "user_tz": 180,
          "elapsed": 1043,
          "user": {
            "displayName": "Renan Sarcinelli",
            "photoUrl": "//lh4.googleusercontent.com/-ymt9ELp1G0w/AAAAAAAAAAI/AAAAAAAAEsg/iSBFlIdzPFk/s50-c-k-no/photo.jpg",
            "userId": "112343690181629890042"
          }
        }
      },
      "cell_type": "code",
      "source": [
        "data = np.genfromtxt('bases/Runner_num.txt', delimiter='\\t')\n",
        "\n",
        "if alg.kendall(data,0.05):\n",
        "  print(\"Segundo o teste de Pearson com 5% de significância a Hipotese nula é rejeitada, ou seja, as variáveis são relacionadas\")\n",
        "else:\n",
        "  print(\"Segundo o teste de Pearson com 5% de significância a Hipotese nula é aceita, ou seja, as variáveis não são relacionadas\")\n",
        "if alg.kendall(data,0.01):\n",
        "  print(\"Segundo o teste de Pearson com 1% de significância a Hipotese nula é rejeitada, ou seja, as variáveis são relacionadas\")\n",
        "else:\n",
        "  print(\"Segundo o teste de Pearson com 1% de significância a Hipotese nula é aceita, ou seja, as variáveis não são relacionadas\")\n",
        "\n",
        "      "
      ],
      "execution_count": 20,
      "outputs": [
        {
          "output_type": "stream",
          "text": [
            "Segundo o teste de Pearson com 5% de significância a Hipotese nula é rejeitada, ou seja, as variáveis são relacionadas\n",
            "Segundo o teste de Pearson com 1% de significância a Hipotese nula é rejeitada, ou seja, as variáveis são relacionadas\n"
          ],
          "name": "stdout"
        }
      ]
    },
    {
      "metadata": {
        "id": "GT5eq1_-Y18a",
        "colab_type": "text"
      },
      "cell_type": "markdown",
      "source": [
        "### Letra D\n",
        "\n",
        "Calcule o coeficiente de correlação entre os dados e realize o teste de hipótese de Pearson para 5% e 1% de nível de significância (teste bilateral). Informe os resultados."
      ]
    },
    {
      "metadata": {
        "id": "zbpvur_aY_S6",
        "colab_type": "code",
        "colab": {
          "autoexec": {
            "startup": false,
            "wait_interval": 0
          },
          "base_uri": "https://localhost:8080/",
          "height": 55
        },
        "outputId": "b6c1b5e3-5724-4fff-ec62-46e745ad2b09",
        "executionInfo": {
          "status": "ok",
          "timestamp": 1526577856662,
          "user_tz": 180,
          "elapsed": 829,
          "user": {
            "displayName": "Renan Sarcinelli",
            "photoUrl": "//lh4.googleusercontent.com/-ymt9ELp1G0w/AAAAAAAAAAI/AAAAAAAAEsg/iSBFlIdzPFk/s50-c-k-no/photo.jpg",
            "userId": "112343690181629890042"
          }
        }
      },
      "cell_type": "code",
      "source": [
        "import numpy as np\n",
        "import scipy.stats as st\n",
        "\n",
        "data = np.genfromtxt('bases/Runner_num.txt', delimiter='\\t')\n",
        "\n",
        "if alg.pearson(data,0.05):\n",
        "  print(\"Segundo o teste de Pearson com 5% de significância a Hipotese nula é rejeitada, ou seja, as variáveis são relacionadas\")\n",
        "else:\n",
        "  print(\"Segundo o teste de Pearson com 5% de significância a Hipotese nula é aceita, ou seja, as variáveis não são relacionadas\")\n",
        "  \n",
        "if alg.pearson(data,0.01):\n",
        "  print(\"Segundo o teste de Pearson com 1% de significância a Hipotese nula é rejeitada, ou seja, as variáveis são relacionadas\")\n",
        "else:\n",
        "  print(\"Segundo o teste de Pearson com 1% de significância a Hipotese nula é aceita, ou seja, as variáveis não são relacionadas\")"
      ],
      "execution_count": 4,
      "outputs": [
        {
          "output_type": "stream",
          "text": [
            "Segundo o teste de Pearson com 5% de significância a Hipotese nula é rejeitada, ou seja, as variáveis são relacionadas\n",
            "Segundo o teste de Pearson com 1% de significância a Hipotese nula é rejeitada, ou seja, as variáveis são relacionadas\n"
          ],
          "name": "stdout"
        }
      ]
    },
    {
      "metadata": {
        "id": "P56hKXa3JYGI",
        "colab_type": "text"
      },
      "cell_type": "markdown",
      "source": [
        "## Exe. 6\n",
        "\n",
        "Para a base de dados Auto MPG (disponibilizada em https://archive.ics.uci.edu/ml/datasets/Auto+MPG) faça:"
      ]
    },
    {
      "metadata": {
        "id": "Qpb2mWN-JpUE",
        "colab_type": "text"
      },
      "cell_type": "markdown",
      "source": [
        "### Letra A\n",
        "\n",
        "Baixe o arquivo auto-mpg.data, remova as linhas que tem interrogação (?) e remova a última coluna (por quê?). Com as 150 primeiras linhas obtenha um modelo de regressão linear multivariada para predizer o valor da primeira variável (mpg). Avalie o resultado sobre o restante da base de dados, usando a métrica RMSE.\n",
        "\n",
        "A ultima coluna continha os nomes dos veículos de cada amostra, como a string do nome é apenas um identificador, ela não traz dados relevantes para predizer o modelo e não está relacionada com nenhum dos outros atributos, por isso ela não foi utilizada."
      ]
    },
    {
      "metadata": {
        "id": "TOQYlu7WT6yK",
        "colab_type": "code",
        "colab": {
          "autoexec": {
            "startup": false,
            "wait_interval": 0
          },
          "base_uri": "https://localhost:8080/",
          "height": 36
        },
        "outputId": "656a97bb-a6ba-481e-ed45-1e4927177494",
        "executionInfo": {
          "status": "ok",
          "timestamp": 1527623377686,
          "user_tz": 180,
          "elapsed": 765,
          "user": {
            "displayName": "Renan Sarcinelli",
            "photoUrl": "//lh4.googleusercontent.com/-ymt9ELp1G0w/AAAAAAAAAAI/AAAAAAAAEsg/iSBFlIdzPFk/s50-c-k-no/photo.jpg",
            "userId": "112343690181629890042"
          }
        }
      },
      "cell_type": "code",
      "source": [
        "data = np.genfromtxt('bases/auto-mpg.data', delimiter=(4,4,8,11,11,10,5,3))\n",
        "data = np.array([ d for d in data if not any(alg.isNaN(i) for i in d)])\n",
        "w = alg.reg_lin(data[:149,1:],data[:149,0])\n",
        "\n",
        "print(\"RMSE :\",alg.RMSE(data[150:,1:],data[150:,0],w))\n"
      ],
      "execution_count": 21,
      "outputs": [
        {
          "output_type": "stream",
          "text": [
            "RMSE : 6.4840752987358545\n"
          ],
          "name": "stdout"
        }
      ]
    },
    {
      "metadata": {
        "id": "14LcDZPbeb_I",
        "colab_type": "text"
      },
      "cell_type": "markdown",
      "source": [
        "### Letra B\n",
        "\n",
        "Verifique quais são os atributos que estão relacionados com a saída: A partir dos coeficientes obtidos, aplique o teste F de Snedecor sobre cada variável individualmente (conforme nos slides). Indique quais foram os atributos que podem ser desconsiderados. Obtenha sobre o restante da base de dados a métrica RMSE com o modelo sem considerar esses atributos (não precisa estimar um novo modelo, só considere os valores dos coeficientes deles iguais a zero). Compare os resultados obtidos em a) e em b). Considere que os resíduos do modelo possui distribuição aproximadamente normal e que F1,142 = 3,908."
      ]
    },
    {
      "metadata": {
        "id": "Ue_mTLJ07v4Q",
        "colab_type": "text"
      },
      "cell_type": "markdown",
      "source": [
        "Como pode ser visto após a seleção das variáveis que mais se relacionavam a saida através do teste F de Snedecor a Raiz do erro quadrático médio(RMSE) diminuiu, indicando que o novo modelo se adequa melhor do que o modelo que considera todos os atributos, oque é esperado já que o proposito do teste é remover atributos que não apresentem uma relação clara com o valor esperado, podendo gerar ruidos na regressão"
      ]
    },
    {
      "metadata": {
        "id": "uoDiDNugefmk",
        "colab_type": "code",
        "colab": {
          "autoexec": {
            "startup": false,
            "wait_interval": 0
          },
          "base_uri": "https://localhost:8080/",
          "height": 55
        },
        "outputId": "53d44ffe-c561-4b2b-f063-0323be8c4281",
        "executionInfo": {
          "status": "ok",
          "timestamp": 1527623384595,
          "user_tz": 180,
          "elapsed": 700,
          "user": {
            "displayName": "Renan Sarcinelli",
            "photoUrl": "//lh4.googleusercontent.com/-ymt9ELp1G0w/AAAAAAAAAAI/AAAAAAAAEsg/iSBFlIdzPFk/s50-c-k-no/photo.jpg",
            "userId": "112343690181629890042"
          }
        }
      },
      "cell_type": "code",
      "source": [
        "w = alg.snedecor(data[:149,1:],data[:149,0])\n",
        "\n",
        "print(\"Os atributos que foram  considerados segundo o Metdo de Snedecor foram:\",np.nonzero(w)[0]+1)\n",
        "print(\"RMSE :\",alg.RMSE(data[150:,1:],data[150:,0],w))"
      ],
      "execution_count": 22,
      "outputs": [
        {
          "output_type": "stream",
          "text": [
            "Os atributos que foram  considerados segundo o Metdo de Snedecor foram: [1 5 8]\n",
            "RMSE : 5.442628796074691\n"
          ],
          "name": "stdout"
        }
      ]
    },
    {
      "metadata": {
        "id": "JcfECR5Unc7a",
        "colab_type": "text"
      },
      "cell_type": "markdown",
      "source": [
        "## Exe. 7\n",
        "\n",
        "Para a base de dados Polinômio (disponibilizada em anexo), faça:"
      ]
    },
    {
      "metadata": {
        "id": "cnTB84SuoSD0",
        "colab_type": "text"
      },
      "cell_type": "markdown",
      "source": [
        "### Letra A\n",
        "\n",
        "Divida aleatoriamente a base de dados em duas partes: treino, com 70% das amostras, e teste, com 30%. Use a parte de treino para estimar um modelo linear que melhor se ajusta aos dados, sendo a entrada do modelo a primeira coluna e a saída a segunda coluna. Informe os parâmetros do modelo encontrado e obtenha os valores de RMSE e MAPE sobre o conjunto de treino e teste. Mostre um gráfico do modelo estimado e dos pontos da base de dados. O modelo conseguiu se ajustar bem aos dados? Por quê? "
      ]
    },
    {
      "metadata": {
        "id": "ykTUaeU0VVSU",
        "colab_type": "text"
      },
      "cell_type": "markdown",
      "source": [
        "Apos observar o gráfico que compara o modelo com os dados fica visivel que o modelo proposto não se ajustou bem, os dados mostram uma curva, que poderia ser representada melhor por um polinomio de grau dois ou superior, mas o modelo sugere uma reta, por isso os resultados não foram muito bons como pode-se observar através das métricas"
      ]
    },
    {
      "metadata": {
        "id": "-ChzYr-yoPsS",
        "colab_type": "code",
        "colab": {
          "autoexec": {
            "startup": false,
            "wait_interval": 0
          },
          "base_uri": "https://localhost:8080/",
          "height": 441
        },
        "outputId": "23767064-75b8-4c1e-a1d9-c908fefe1c19",
        "executionInfo": {
          "status": "ok",
          "timestamp": 1527623416037,
          "user_tz": 180,
          "elapsed": 700,
          "user": {
            "displayName": "Renan Sarcinelli",
            "photoUrl": "//lh4.googleusercontent.com/-ymt9ELp1G0w/AAAAAAAAAAI/AAAAAAAAEsg/iSBFlIdzPFk/s50-c-k-no/photo.jpg",
            "userId": "112343690181629890042"
          }
        }
      },
      "cell_type": "code",
      "source": [
        "data = np.genfromtxt('bases/Polinômio.txt', delimiter=\"  \")\n",
        "np.random.shuffle(data)\n",
        "train_data = data[:int(data.shape[0]*.7),:]\n",
        "test_data = data[(int(data.shape[0]*.7)+1):,:]\n",
        "w = alg.reg_lin(train_data[:,0],train_data[:,1])\n",
        "\n",
        "if coef[1] > 0:\n",
        "  print(\"y = %.2f + %.2fx\" % (w[0],w[1]))\n",
        "else:\n",
        "  print(\"y = %.2f - %.2fx\" % (w[0],abs(w[1])))\n",
        "\n",
        "print(\"MAPE treino :\",alg.MAPE(train_data[:,0],train_data[:,1],w))\n",
        "print(\"MAPE teste  :\",alg.MAPE(test_data[:,0],test_data[:,1],w))\n",
        "print(\"RMSE treino :\",alg.RMSE(train_data[:,0],train_data[:,1],w))\n",
        "print(\"RMSE teste  :\",alg.RMSE(test_data[:,0],test_data[:,1],w))\n",
        "\n",
        "plt.plot(train_data[:,0],train_data[:,1],\"go\")\n",
        "plt.plot(test_data[:,0],test_data[:,1],\"ro\")\n",
        "plt.plot([np.min(data[:,0]),np.max(data[:,0])],alg.f_polin([np.min(data[:,0]),np.max(data[:,0])],w),\"b\")\n",
        "\n",
        "test_patch = mpatches.Patch(color='r', label='Test')\n",
        "train_patch = mpatches.Patch(color='g', label='Train')\n",
        "model_patch = mpatches.Patch(color='b', label='Model')\n",
        "plt.legend(handles=[test_patch,train_patch,model_patch])\n",
        "\n",
        "plt.show()"
      ],
      "execution_count": 24,
      "outputs": [
        {
          "output_type": "stream",
          "text": [
            "y = -287.01 - 103.05x\n",
            "MAPE treino : 18.276464901758334\n",
            "MAPE teste  : 9135.558359759038\n",
            "RMSE treino : 231.19859040051512\n",
            "RMSE teste  : 190.60564472550936\n"
          ],
          "name": "stdout"
        },
        {
          "output_type": "display_data",
          "data": {
            "image/png": "[encoded data removed]",
            "text/plain": [
              "<matplotlib.figure.Figure at 0x7ff713ed0208>"
            ]
          },
          "metadata": {
            "tags": []
          }
        }
      ]
    },
    {
      "metadata": {
        "id": "Tp8dC-AioYbU",
        "colab_type": "text"
      },
      "cell_type": "markdown",
      "source": [
        "### Letra B\n",
        "\n",
        "Estimar o modelo polinomial que melhor se ajusta aos dados usando os dados de treinamento. Informe os parâmetros do modelo encontrado. Use os fatores de determinação de complexidade QME e R2 dos modelos para auxiliar a encontrar o modelo. Varie do modelo linear até o modelo polinomial acima do melhor encontrado (mostre os resultados obtidos de QME e R2 de cada modelo). Obtenha os valores RMSE e MAPE do modelo obtido sobre os dados de treino e teste. Mostre um gráfico com o novo modelo. O modelo conseguiu se ajustar melhor aos dados? Por quê?"
      ]
    },
    {
      "metadata": {
        "id": "urtzAyjTIJ9H",
        "colab_type": "code",
        "colab": {
          "autoexec": {
            "startup": false,
            "wait_interval": 0
          },
          "base_uri": "https://localhost:8080/",
          "height": 1121
        },
        "outputId": "d01524c7-76e4-4697-f2ac-a4fe7b432cb6",
        "executionInfo": {
          "status": "ok",
          "timestamp": 1527623475375,
          "user_tz": 180,
          "elapsed": 668,
          "user": {
            "displayName": "Renan Sarcinelli",
            "photoUrl": "//lh4.googleusercontent.com/-ymt9ELp1G0w/AAAAAAAAAAI/AAAAAAAAEsg/iSBFlIdzPFk/s50-c-k-no/photo.jpg",
            "userId": "112343690181629890042"
          }
        }
      },
      "cell_type": "code",
      "source": [
        "data = np.genfromtxt('bases/Polinômio.txt', delimiter=\"  \")\n",
        "np.random.shuffle(data)\n",
        "\n",
        "data = data[:,::-1]\n",
        "for i in range(2,10):\n",
        "  power_data = np.power(data[:,1],i).reshape((data.shape[0],1))\n",
        "  data = np.append(data,power_data, axis = 1)\n",
        "\n",
        "train_data = data[:int(data.shape[0]*.7),:]\n",
        "test_data = data[(int(data.shape[0]*.7)+1):,:]\n",
        "polinom_x = np.linspace(np.min(data[:,1]),np.max(data[:,1]),num=1000)\n",
        "\n",
        "R2_list = []\n",
        "QME_list = []\n",
        "for i in range(2,11):\n",
        "  w = alg.reg_lin(train_data[:,1:i],train_data[:,0])\n",
        "\n",
        "  R2_list.append(alg.R2(test_data[:,1:i],test_data[:,0],w))\n",
        "  QME_list.append(alg.QME(test_data[:,1:i],test_data[:,0],w,i))\n",
        "  print(\"Modelo de ordem\",i-1)\n",
        "  print(\"R² =\",alg.R2(test_data[:,1:i],test_data[:,0],w))\n",
        "  print(\"QME =\",alg.QME(test_data[:,1:i],test_data[:,0],w,i))\n",
        "  print()\n",
        "  \n",
        "best_ord = int(np.round((np.argmin(QME_list)+np.argmax(R2_list))/2)+1)\n",
        "#best_ord = 2\n",
        "print(\"O modelo que melhor se ajustou foi o de ordem\", best_ord)\n",
        "\n",
        "w = alg.reg_lin(train_data[:,1:best_ord+1],train_data[:,0])\n",
        "print(\"MAPE treino :\",alg.MAPE(train_data[:,1:best_ord+1],train_data[:,0],w))\n",
        "print(\"MAPE teste  :\",alg.MAPE(test_data[:,1:best_ord+1],test_data[:,0],w))\n",
        "print(\"RMSE treino :\",alg.RMSE(train_data[:,1:best_ord+1],train_data[:,0],w))\n",
        "print(\"RMSE teste  :\",alg.RMSE(test_data[:,1:best_ord+1],test_data[:,0],w))\n",
        "\n",
        "plt.plot(train_data[:,1],train_data[:,0],\"go\")\n",
        "plt.plot(test_data[:,1],test_data[:,0],\"ro\")\n",
        "\n",
        "polinom_y = alg.f_polin(polinom_x,w)                         \n",
        "plt.plot(polinom_x,polinom_y,\"b\")\n",
        "\n",
        "test_patch = mpatches.Patch(color='r', label='Test')\n",
        "train_patch = mpatches.Patch(color='g', label='Train')\n",
        "model_patch = mpatches.Patch(color='b', label='Model')\n",
        "plt.legend(handles=[test_patch,train_patch,model_patch])\n",
        "\n",
        "plt.show()"
      ],
      "execution_count": 27,
      "outputs": [
        {
          "output_type": "stream",
          "text": [
            "Modelo de ordem 1\n",
            "R² = 0.670747165078682\n",
            "QME = 56176.52787738567\n",
            "\n",
            "Modelo de ordem 2\n",
            "R² = 0.8609623999961048\n",
            "QME = 24216.561359171537\n",
            "\n",
            "Modelo de ordem 3\n",
            "R² = 0.8815457435192442\n",
            "QME = 21070.471947579616\n",
            "\n",
            "Modelo de ordem 4\n",
            "R² = 0.8821661094557224\n",
            "QME = 21415.776980756353\n",
            "\n",
            "Modelo de ordem 5\n",
            "R² = 0.8819814352050573\n",
            "QME = 21925.992706418205\n",
            "\n",
            "Modelo de ordem 6\n",
            "R² = 0.882979716256039\n",
            "QME = 22234.63069616149\n",
            "\n",
            "Modelo de ordem 7\n",
            "R² = 0.8829898497104114\n",
            "QME = 22749.744930066023\n",
            "\n",
            "Modelo de ordem 8\n",
            "R² = 0.8789615916533114\n",
            "QME = 24093.24871185453\n",
            "\n",
            "Modelo de ordem 9\n",
            "R² = 0.8543585228991925\n",
            "QME = 29697.689916789168\n",
            "\n",
            "O modelo que melhor se ajustou foi o de ordem 5\n",
            "MAPE treino : 634.2538240495237\n",
            "MAPE teste  : 68.11088770536189\n",
            "RMSE treino : 145.59515271492128\n",
            "RMSE teste  : 139.09156751119727\n"
          ],
          "name": "stdout"
        },
        {
          "output_type": "display_data",
          "data": {
            "image/png": "[encoded data removed]",
            "text/plain": [
              "<matplotlib.figure.Figure at 0x7ff714542ac8>"
            ]
          },
          "metadata": {
            "tags": []
          }
        }
      ]
    },
    {
      "metadata": {
        "id": "8k07ipvqofXC",
        "colab_type": "text"
      },
      "cell_type": "markdown",
      "source": [
        "### Letra C\n",
        "\n",
        "Utilize o método de Ransac sobre os dados de treinamento para remover os outliers e obter o modelo polinomial. Informe os parâmetros do modelo encontrado. Obtenha o RMSE e MAPE do modelo obtido sobre os dados de treino e teste. Mostre um gráfico com o novo modelo. O Ransac conseguiu ajustar melhor o modelo aos dados?"
      ]
    },
    {
      "metadata": {
        "id": "V-dIW8Hv5qNQ",
        "colab_type": "code",
        "colab": {
          "autoexec": {
            "startup": false,
            "wait_interval": 0
          },
          "base_uri": "https://localhost:8080/",
          "height": 422
        },
        "outputId": "1dde6b00-588b-4b66-ffda-e5b0b1afb654",
        "executionInfo": {
          "status": "ok",
          "timestamp": 1527623504922,
          "user_tz": 180,
          "elapsed": 708,
          "user": {
            "displayName": "Renan Sarcinelli",
            "photoUrl": "//lh4.googleusercontent.com/-ymt9ELp1G0w/AAAAAAAAAAI/AAAAAAAAEsg/iSBFlIdzPFk/s50-c-k-no/photo.jpg",
            "userId": "112343690181629890042"
          }
        }
      },
      "cell_type": "code",
      "source": [
        "w = alg.ransac(train_data[:,1:best_ord+1],train_data[:,0],100)\n",
        "print(\"MAPE treino :\",alg.MAPE(train_data[:,1:best_ord+1],train_data[:,0],w))\n",
        "print(\"MAPE teste  :\",alg.MAPE(test_data[:,1:best_ord+1],test_data[:,0],w))\n",
        "print(\"RMSE treino :\",alg.RMSE(train_data[:,1:best_ord+1],train_data[:,0],w))\n",
        "print(\"RMSE teste  :\",alg.RMSE(test_data[:,1:best_ord+1],test_data[:,0],w))\n",
        "\n",
        "plt.plot(train_data[:,1],train_data[:,0],\"go\")\n",
        "plt.plot(test_data[:,1],test_data[:,0],\"ro\")\n",
        "\n",
        "polinom_y = alg.f_polin(polinom_x,w)                         \n",
        "plt.plot(polinom_x,polinom_y,\"b\")\n",
        "\n",
        "test_patch = mpatches.Patch(color='r', label='Test')\n",
        "train_patch = mpatches.Patch(color='g', label='Train')\n",
        "model_patch = mpatches.Patch(color='b', label='Model')\n",
        "plt.legend(handles=[test_patch,train_patch,model_patch])\n",
        "\n",
        "plt.show()"
      ],
      "execution_count": 29,
      "outputs": [
        {
          "output_type": "stream",
          "text": [
            "MAPE treino : 310.37381376825965\n",
            "MAPE teste  : 18.171750793116516\n",
            "RMSE treino : 149.99608024034038\n",
            "RMSE teste  : 155.86256662830803\n"
          ],
          "name": "stdout"
        },
        {
          "output_type": "display_data",
          "data": {
            "image/png": "[encoded data removed]",
            "text/plain": [
              "<matplotlib.figure.Figure at 0x7ff713e2b4e0>"
            ]
          },
          "metadata": {
            "tags": []
          }
        }
      ]
    },
    {
      "metadata": {
        "id": "swgj6uf_ojrI",
        "colab_type": "text"
      },
      "cell_type": "markdown",
      "source": [
        "## Exe. 8\n",
        "\n",
        "Explique o dilema entre bias e variância e o seu relacionamento com underfitting e overfitting."
      ]
    },
    {
      "metadata": {
        "id": "17QNuzFynjln",
        "colab_type": "text"
      },
      "cell_type": "markdown",
      "source": [
        "Duas características comuns nos algoritmos de Machine Learning são o Bias, ou viés, é a distância média entre os valores reais e os preditos pelo algoritmo, e a variância indica quanto os modelos variam de acordo com os dados de treino escolhidos.\n",
        "Com iso percebemos que os dois extremos são problematicos, um conjunto que acerta muito os dados de treino, ou seja tenha bias baixo, provavelmente vai se adaptar tao bem aos dados do treino que ficará amarrado a ele, ou seja cada conjunto de treino resultará em um modelo de treino completamente diferente , tornado a variância alta. Este caso é denominado overfitting, quando o modelo se adapta muito bem aos casos de treino, mas não representa bem o modelo real, gerando uma acurácia baixa para outros casos.\n",
        "Po outro lado se relaxarmos muito o bias e procurarmos diminuir a variância ao extremo, para qualquer caso de treino teriamos o mesmo modelo, com isso provavelmente diminuiriamos a diferenca entre a acuracia obtida entre os dados de treino e teste, porém este valor de acurácia pode não ser o mais desejado. este caso é denominado Underfitting, quando o modelo representa mal os casos de teste, ele fica tão genérico que não se ajusta aos dados.\n",
        "Por isso o ideal é identificar o overfitting e underfitting para se obter um equilíbrio entre bias e variancia, gerando um modelo que se ajuste mais adequadamente ao conjunto de dados como um todo."
      ]
    },
    {
      "metadata": {
        "id": "KIXvi5muALWW",
        "colab_type": "text"
      },
      "cell_type": "markdown",
      "source": [
        "# Parte III - Métodos de Classificação Baseados em Distância"
      ]
    },
    {
      "metadata": {
        "id": "NHSYtzwCASEk",
        "colab_type": "text"
      },
      "cell_type": "markdown",
      "source": [
        "## Exe. 9\n",
        "\n",
        "Para a figura abaixo, obtenha o diagrama de Voronoi das amostras quadrado, triângulo e losango para as métricas de:\n"
      ]
    },
    {
      "metadata": {
        "id": "_fa5T7SgAvmk",
        "colab_type": "text"
      },
      "cell_type": "markdown",
      "source": [
        "### Letra A\n",
        "\n",
        "Distância Euclidiana;"
      ]
    },
    {
      "metadata": {
        "id": "6_xqDoVOAvBu",
        "colab_type": "code",
        "colab": {
          "autoexec": {
            "startup": false,
            "wait_interval": 0
          },
          "base_uri": "https://localhost:8080/",
          "height": 351
        },
        "outputId": "4473e335-263e-4bfe-8cc2-480876012fef",
        "executionInfo": {
          "status": "ok",
          "timestamp": 1528682182745,
          "user_tz": 180,
          "elapsed": 817,
          "user": {
            "displayName": "Renan Sarcinelli",
            "photoUrl": "//lh4.googleusercontent.com/-ymt9ELp1G0w/AAAAAAAAAAI/AAAAAAAAEsg/iSBFlIdzPFk/s50-c-k-no/photo.jpg",
            "userId": "112343690181629890042"
          }
        }
      },
      "cell_type": "code",
      "source": [
        "img=mpimg.imread('Images/Voronoi_Euclidian.PNG')\n",
        "imgplot = plt.imshow(img)\n",
        "plt.axis('off')\n",
        "plt.show()"
      ],
      "execution_count": 3,
      "outputs": [
        {
          "output_type": "display_data",
          "data": {
            "image/png": "[encoded data removed]",
            "text/plain": [
              "<matplotlib.figure.Figure at 0x7f9ee874e9e8>"
            ]
          },
          "metadata": {
            "tags": []
          }
        }
      ]
    },
    {
      "metadata": {
        "id": "8OWEJh8FA4Ek",
        "colab_type": "text"
      },
      "cell_type": "markdown",
      "source": [
        "### Letra B\n",
        "\n",
        "Similaridade Cosseno;"
      ]
    },
    {
      "metadata": {
        "id": "eCFZpKTKBfcY",
        "colab_type": "code",
        "colab": {
          "autoexec": {
            "startup": false,
            "wait_interval": 0
          },
          "base_uri": "https://localhost:8080/",
          "height": 351
        },
        "outputId": "b83b565e-6ef0-4d0d-9761-ba1e4421d6b8",
        "executionInfo": {
          "status": "ok",
          "timestamp": 1528682204793,
          "user_tz": 180,
          "elapsed": 900,
          "user": {
            "displayName": "Renan Sarcinelli",
            "photoUrl": "//lh4.googleusercontent.com/-ymt9ELp1G0w/AAAAAAAAAAI/AAAAAAAAEsg/iSBFlIdzPFk/s50-c-k-no/photo.jpg",
            "userId": "112343690181629890042"
          }
        }
      },
      "cell_type": "code",
      "source": [
        "img=mpimg.imread('Images/Voronoi_Cosine.PNG')\n",
        "imgplot = plt.imshow(img)\n",
        "plt.axis('off')\n",
        "plt.show()"
      ],
      "execution_count": 4,
      "outputs": [
        {
          "output_type": "display_data",
          "data": {
            "image/png": "[encoded data removed]",
            "text/plain": [
              "<matplotlib.figure.Figure at 0x7f9ee8dc7eb8>"
            ]
          },
          "metadata": {
            "tags": []
          }
        }
      ]
    },
    {
      "metadata": {
        "id": "OnewRvJaBQgG",
        "colab_type": "text"
      },
      "cell_type": "markdown",
      "source": [
        "### Letra C\n",
        "\n",
        "Obtenha a classe (quadrado, triângulo ou losango) da amostra círculo para um classificador NN, se for usada a métrica de Distância Euclidiana e a Similaridade Cosseno."
      ]
    },
    {
      "metadata": {
        "id": "Fm3Wx4RFBeiQ",
        "colab_type": "code",
        "colab": {
          "autoexec": {
            "startup": false,
            "wait_interval": 0
          },
          "base_uri": "https://localhost:8080/",
          "height": 55
        },
        "outputId": "c75e70b4-7f8b-47cc-a313-6787642bc650",
        "executionInfo": {
          "status": "ok",
          "timestamp": 1527623555167,
          "user_tz": 180,
          "elapsed": 465,
          "user": {
            "displayName": "Renan Sarcinelli",
            "photoUrl": "//lh4.googleusercontent.com/-ymt9ELp1G0w/AAAAAAAAAAI/AAAAAAAAEsg/iSBFlIdzPFk/s50-c-k-no/photo.jpg",
            "userId": "112343690181629890042"
          }
        }
      },
      "cell_type": "code",
      "source": [
        "\n",
        "data = np.array([[60,150],[50,50],[160,40]])\n",
        "rotules = np.array([\"losangulo\",\"quadrado\",\"triangulo\"])\n",
        "print (\"Pela distancia euclidiana o circulo foi classificado como :\",alg.kNN(data,rotules,np.array([[190,130]]),alg.euclidian)[0])\n",
        "print (\"Pela similaridade de cosseno o circulo foi classificado como :\",alg.kNN(data,rotules,np.array([[190,130]]),alg.cosine_similarity)[0])"
      ],
      "execution_count": 32,
      "outputs": [
        {
          "output_type": "stream",
          "text": [
            "Pela distancia euclidiana o circulo foi classificado como : triangulo\n",
            "Pela similaridade de cosseno o circulo foi classificado como : quadrado\n"
          ],
          "name": "stdout"
        }
      ]
    },
    {
      "metadata": {
        "id": "oIq4AHlQAFxu",
        "colab_type": "text"
      },
      "cell_type": "markdown",
      "source": [
        "## Exe. 10\n",
        "\n",
        "Realize a classificação da base de dados HTRU2 (disponível em https://archive.ics.uci.edu/ml/datasets/HTRU2) usando o esquema de validação hold-out. Para cada execução, use 6000 amostras de treino selecionadas aleatoriamente e o restante para teste (normalmente o conjunto de treinamento é maior do que de teste, mas para reduzir o custo computacional ele foi reduzido aqui). Execute 5 vezes o treinamento e teste e retorne a acurácia, recall e precisão média para cada algoritmo. Faça a classificação usando:"
      ]
    },
    {
      "metadata": {
        "id": "6ynvje_LAPHu",
        "colab_type": "text"
      },
      "cell_type": "markdown",
      "source": [
        "### Letra A\n",
        "\n",
        "Rocchio com métrica de distância Mahalanobis;"
      ]
    },
    {
      "metadata": {
        "id": "aUCv6Yz6A60A",
        "colab_type": "code",
        "colab": {
          "autoexec": {
            "startup": false,
            "wait_interval": 0
          },
          "base_uri": "https://localhost:8080/",
          "height": 74
        },
        "outputId": "8de0774c-83d9-4b0b-b69a-fed8b939c3c4",
        "executionInfo": {
          "status": "ok",
          "timestamp": 1527623592177,
          "user_tz": 180,
          "elapsed": 5968,
          "user": {
            "displayName": "Renan Sarcinelli",
            "photoUrl": "//lh4.googleusercontent.com/-ymt9ELp1G0w/AAAAAAAAAAI/AAAAAAAAEsg/iSBFlIdzPFk/s50-c-k-no/photo.jpg",
            "userId": "112343690181629890042"
          }
        }
      },
      "cell_type": "code",
      "source": [
        "data = np.genfromtxt('bases/HTRU_2.csv', delimiter=',')\n",
        "acc = 0\n",
        "rec = 0\n",
        "pre = 0\n",
        "for i in range(0,5):\n",
        "  np.random.shuffle(data)\n",
        "  train_data = data[:6000,:]\n",
        "  val_data = data[6000:,:]\n",
        "\n",
        "  trained = alg.rocchio(train_data[:,:-1],train_data[:,-1],val_data[:,:-1],alg.mahalanobis)\n",
        "  acc += alg.accuracy(trained,val_data[:,-1])\n",
        "  rec += alg.recall(trained,val_data[:,-1])\n",
        "  pre += alg.precision(trained,val_data[:,-1])\n",
        "\n",
        "print(\"Accuracy =\",acc/5)\n",
        "print(\"Recall =\",rec/5)\n",
        "print(\"Precision =\",pre/5)"
      ],
      "execution_count": 34,
      "outputs": [
        {
          "output_type": "stream",
          "text": [
            "Accuracy = 0.8480584972264247\n",
            "Recall = 0.9004150298348914\n",
            "Precision = 0.36755578139119555\n"
          ],
          "name": "stdout"
        }
      ]
    },
    {
      "metadata": {
        "id": "6GJfqlKAAYOY",
        "colab_type": "text"
      },
      "cell_type": "markdown",
      "source": [
        "### Letra B\n",
        "\n",
        "kNN com métrica de distância Euclidiana. Para selecionar o melhor valor de k divida a base de treinamento em duas partes iguais: uma para treinar e a outra para validar e encontrar o melhor valor de k;"
      ]
    },
    {
      "metadata": {
        "id": "z9New1bdZy6e",
        "colab_type": "code",
        "colab": {
          "autoexec": {
            "startup": false,
            "wait_interval": 0
          },
          "base_uri": "https://localhost:8080/",
          "height": 338
        },
        "outputId": "06a88aae-a6ac-45ff-fa61-141c59773298",
        "executionInfo": {
          "status": "ok",
          "timestamp": 1527645867569,
          "user_tz": 180,
          "elapsed": 2369764,
          "user": {
            "displayName": "Renan Sarcinelli",
            "photoUrl": "//lh4.googleusercontent.com/-ymt9ELp1G0w/AAAAAAAAAAI/AAAAAAAAEsg/iSBFlIdzPFk/s50-c-k-no/photo.jpg",
            "userId": "112343690181629890042"
          }
        }
      },
      "cell_type": "code",
      "source": [
        "\n",
        "data = np.genfromtxt('bases/HTRU_2.csv', delimiter=',')\n",
        "#data = data[:500,:]\n",
        "acc = np.zeros(10)\n",
        "for i in range(0,5):\n",
        "   \n",
        "  train_data = data[:np.round(data.shape[0]/2).astype(int),:]\n",
        "  val_data = data[np.round(data.shape[0]/2).astype(int):,:]\n",
        " \n",
        "  _,d = alg.kNN(train_data[:,:-1],train_data[:,-1],val_data[:,:-1],alg.euclidian,return_distances = True)#Just to compute the distances\n",
        "  print(\"Distances computed iteration :\",i+1)\n",
        "  for k in range(1,11):\n",
        "    trained = alg.kNN(train_data[:,:-1],train_data[:,-1],val_data[:,:-1],alg.euclidian,k=k,distances = d)\n",
        "    acc[k-1] += alg.accuracy(trained,val_data[:,-1])\n",
        "\n",
        "acc /= 5.0\n",
        "for k in range(1,11):\n",
        "  print(\"Accuracy mean for k=\",k,\":\",acc[k-1])\n",
        "  \n",
        "k_best = np.argmax(acc)+1\n",
        "print(\"\\nBest accuracy for k =\",k_best)\n",
        "      "
      ],
      "execution_count": 7,
      "outputs": [
        {
          "output_type": "stream",
          "text": [
            "Distances computed iteration : 1\n",
            "Distances computed iteration : 2\n",
            "Distances computed iteration : 3\n",
            "Distances computed iteration : 4\n",
            "Distances computed iteration : 5\n",
            "Accuracy mean for k= 1 : 0.9612247178455693\n",
            "Accuracy mean for k= 2 : 0.9641300703989273\n",
            "Accuracy mean for k= 3 : 0.9642418147279026\n",
            "Accuracy mean for k= 4 : 0.9637948374120013\n",
            "Accuracy mean for k= 5 : 0.9665884456363839\n",
            "Accuracy mean for k= 6 : 0.960330763213767\n",
            "Accuracy mean for k= 7 : 0.9649122807017545\n",
            "Accuracy mean for k= 8 : 0.9596602972399151\n",
            "Accuracy mean for k= 9 : 0.9629008827801989\n",
            "Accuracy mean for k= 10 : 0.9578723879763104\n",
            "\n",
            "Best accuracy for k = 5\n"
          ],
          "name": "stdout"
        }
      ]
    },
    {
      "metadata": {
        "id": "lgUA7bBwAceG",
        "colab_type": "text"
      },
      "cell_type": "markdown",
      "source": [
        "### Letra C\n",
        "\n",
        "Use o Edit-kNN para classificar com métrica de distância Euclidiana. Pode ser o mesmo valor de k da letra b)."
      ]
    },
    {
      "metadata": {
        "id": "InLNjW77tVpV",
        "colab_type": "code",
        "colab": {
          "autoexec": {
            "startup": false,
            "wait_interval": 0
          },
          "base_uri": "https://localhost:8080/",
          "height": 92
        },
        "outputId": "313702c5-0a39-40d0-d2de-88feea2d560b",
        "executionInfo": {
          "status": "ok",
          "timestamp": 1527646437644,
          "user_tz": 180,
          "elapsed": 521383,
          "user": {
            "displayName": "Renan Sarcinelli",
            "photoUrl": "//lh4.googleusercontent.com/-ymt9ELp1G0w/AAAAAAAAAAI/AAAAAAAAEsg/iSBFlIdzPFk/s50-c-k-no/photo.jpg",
            "userId": "112343690181629890042"
          }
        }
      },
      "cell_type": "code",
      "source": [
        "data = np.genfromtxt('bases/HTRU_2.csv', delimiter=',')\n",
        "np.random.shuffle(data)\n",
        "\n",
        "train_data = data[:np.round(data.shape[0]/2).astype(int),:]\n",
        "val_data = data[np.round(data.shape[0]/2).astype(int):,:]\n",
        "\n",
        "start = time.time()\n",
        "print (\"Standard kNN Accuracy :\",alg.accuracy(alg.kNN(train_data[:,:-1],train_data[:,-1],val_data[:,:-1],alg.euclidian,k = k_best),val_data[:,-1]))\n",
        "print (\"Standard kNN Time Spent :\",time.time()-start)\n",
        "\n",
        "start = time.time()\n",
        "edited_train = alg.edit(train_data[:,:-1],train_data[:,-1],alg.euclidian,k = k_best)\n",
        "print (\"Edited kNN Accuracy :\",alg.accuracy(alg.kNN(edited_train[:,:-1],edited_train[:,-1],val_data[:,:-1],alg.euclidian,k = k_best),val_data[:,-1]))\n",
        "print (\"Edited kNN Time Spent :\",time.time()-start)"
      ],
      "execution_count": 8,
      "outputs": [
        {
          "output_type": "stream",
          "text": [
            "Standard kNN Accuracy : 0.9434573695384959\n",
            "Standard kNN Time Spent : 447.4259696006775\n",
            "Edited kNN Accuracy : 0.9051290646999665\n",
            "Edited kNN Time Spent : 73.13529849052429\n"
          ],
          "name": "stdout"
        }
      ]
    },
    {
      "metadata": {
        "id": "ECy0DRs2AeQ8",
        "colab_type": "text"
      },
      "cell_type": "markdown",
      "source": [
        "### Letra D\n",
        "\n",
        "Compare os resultados, tempos de execução e número de protótipos usados por cada algoritmo. Considerando a distribuição das classes, você considera o valor da acurácia média relevante? Por quê?"
      ]
    },
    {
      "metadata": {
        "id": "z5a8uh4een-W",
        "colab_type": "text"
      },
      "cell_type": "markdown",
      "source": [
        "Ao analizarmos a base sugerida para o exercício percebe-se imediatamente que possui um grande volume de dados e que os dados estão bem desbalanceados, das quase 18 mil amostras cerca de 1500 representam umadas classes , ou seja mais de 90% da base é de uma mesma classe.\n",
        "\n",
        "Devido ao grande número de mostras na Base o kNN se torna muito custoso, demorando muito tempo para classificar as amostras, A pesar disto tem a melhor acurácia dentre os algoritmos analizados.\n",
        "\n",
        "O rocchio possui uma execução mais rápida, mesmo com um grande volume de dados, ele obteve uma boa precisão, apesar de baixa acurácia.\n",
        "\n",
        "Por fim o edit kNN obteve um resultado intermediário, uma precisão proxima ao kNN, porém com muito menos tempo de processamento, tornando este o algoritmo mais adequado para este caso."
      ]
    },
    {
      "metadata": {
        "id": "anH3jdS6DbKN",
        "colab_type": "text"
      },
      "cell_type": "markdown",
      "source": [
        "## Exe. 11\n",
        "\n",
        "Usando as técnicas de seleção de características SFS e SBS sobre a base de dados Wine (disponível em https://archive.ics.uci.edu/ml/datasets/Wine) faça:"
      ]
    },
    {
      "metadata": {
        "id": "B-KD4osJEKUh",
        "colab_type": "text"
      },
      "cell_type": "markdown",
      "source": [
        "### Letra A\n",
        "\n",
        "Divida a base de dados em três partes de forma estratificada. Selecione 5 atributos usando uma parte da base de dados como treinamento e valide os atributos sobre uma outra parte usando a métrica acurácia. Após determinar os 5 atributos, obtenha a acurácia sobre a terceira parte, usando as duas partes anteriores como treinamento. Use o classificador Vizinho mais Próximo nesta tarefa. Quais foram os atributos selecionados?"
      ]
    },
    {
      "metadata": {
        "id": "VHesAoPgEZjK",
        "colab_type": "code",
        "colab": {
          "autoexec": {
            "startup": false,
            "wait_interval": 0
          },
          "base_uri": "https://localhost:8080/",
          "height": 92
        },
        "outputId": "cd8fc3b0-6416-4831-f387-c86bd594e469",
        "executionInfo": {
          "status": "ok",
          "timestamp": 1528682414460,
          "user_tz": 180,
          "elapsed": 4251,
          "user": {
            "displayName": "Renan Sarcinelli",
            "photoUrl": "//lh4.googleusercontent.com/-ymt9ELp1G0w/AAAAAAAAAAI/AAAAAAAAEsg/iSBFlIdzPFk/s50-c-k-no/photo.jpg",
            "userId": "112343690181629890042"
          }
        }
      },
      "cell_type": "code",
      "source": [
        "def SFS(train_data,train_rotules,val_data,val_rotules, n):\n",
        "  att = np.array([])\n",
        "  while n > 0:\n",
        "    best_acc = 0\n",
        "    best_att = 0\n",
        "    for i in range(train_data.shape[1]):\n",
        "      if i in att:\n",
        "        continue\n",
        "      temp_att = np.append(att,[i])\n",
        "      trained = alg.kNN(train_data[:,temp_att.astype(int)],train_rotules,val_data[:,temp_att.astype(int)])\n",
        "      acc = alg.accuracy(trained,val_rotules)\n",
        "      if acc > best_acc:\n",
        "        best_acc = acc\n",
        "        best_att = i\n",
        "    att = np.append(att,[best_att])\n",
        "    n -= 1\n",
        "  return att.astype(int)\n",
        "\n",
        "def SBS(train_data,train_rotules,val_data,val_rotules, n):\n",
        "  att = np.arange(train_data.shape[1])\n",
        "  n = train_data.shape[1] - n\n",
        "  while n > 0:\n",
        "    best_acc = 0\n",
        "    best_att_idx = 0\n",
        "    for i in range(att.shape[0]):\n",
        "      temp_att = np.delete(att,i)\n",
        "      trained = alg.kNN(train_data[:,temp_att.astype(int)],train_rotules,val_data[:,temp_att.astype(int)])\n",
        "      acc = alg.accuracy(trained,val_rotules)\n",
        "      if acc > best_acc:\n",
        "        best_acc = acc\n",
        "        best_att_idx = i\n",
        "    att = np.delete(att,best_att_idx)\n",
        "    n -= 1\n",
        "  return att.astype(int)\n",
        "  \n",
        "  \n",
        "data = np.genfromtxt('bases/wine.data', delimiter=',')\n",
        "d0 = np.array([x for i,x in enumerate(data) if i % 3 == 0])\n",
        "d1 = np.array([x for i,x in enumerate(data) if i % 3 == 1])\n",
        "d2 = np.array([x for i,x in enumerate(data) if i % 3 == 2])\n",
        "train = np.append(d0,d1,axis = 0)\n",
        "\n",
        "selected = SFS(d0[:,1:],d0[:,0],d1[:,1:],d1[:,0],5)+1\n",
        "print(\"Atributos Selecionados pelo SFS :\",selected)\n",
        "trained = alg.kNN(train[:,selected],train[:,0],d2[:,selected])\n",
        "print(\"SFS Accuracy :\",alg.accuracy(trained,d2[:,0]))\n",
        "\n",
        "selected = SBS(d0[:,1:],d0[:,0],d1[:,1:],d1[:,0],5)+1\n",
        "print(\"Atributos Selecionados pelo SFS :\",selected)\n",
        "trained = alg.kNN(train[:,selected],train[:,0],d2[:,selected])\n",
        "print(\"SFS Accuracy :\",alg.accuracy(trained,d2[:,0]))\n",
        "\n"
      ],
      "execution_count": 6,
      "outputs": [
        {
          "output_type": "stream",
          "text": [
            "Atributos Selecionados pelo SFS : [ 7  1  6 11  8]\n",
            "SFS Accuracy : 0.8813559322033898\n",
            "Atributos Selecionados pelo SFS : [ 1  2  7  9 11]\n",
            "SFS Accuracy : 0.9322033898305084\n"
          ],
          "name": "stdout"
        }
      ]
    },
    {
      "metadata": {
        "id": "eFuQcBH9EaXE",
        "colab_type": "text"
      },
      "cell_type": "markdown",
      "source": [
        "### Letra B\n",
        "\n",
        "Realize o mesmo procedimento, mas agora selecionando 10 atributos;"
      ]
    },
    {
      "metadata": {
        "id": "jKQ1LkTEElMV",
        "colab_type": "code",
        "colab": {
          "autoexec": {
            "startup": false,
            "wait_interval": 0
          },
          "base_uri": "https://localhost:8080/",
          "height": 92
        },
        "outputId": "abd78c13-e459-4b59-83f1-5c571dc560cc",
        "executionInfo": {
          "status": "ok",
          "timestamp": 1528682422717,
          "user_tz": 180,
          "elapsed": 4114,
          "user": {
            "displayName": "Renan Sarcinelli",
            "photoUrl": "//lh4.googleusercontent.com/-ymt9ELp1G0w/AAAAAAAAAAI/AAAAAAAAEsg/iSBFlIdzPFk/s50-c-k-no/photo.jpg",
            "userId": "112343690181629890042"
          }
        }
      },
      "cell_type": "code",
      "source": [
        "selected = SFS(d0[:,1:],d0[:,0],d1[:,1:],d1[:,0],10)+1\n",
        "print(\"Atributos Selecionados pelo SFS :\",selected)\n",
        "trained = alg.kNN(train[:,selected],train[:,0],d2[:,selected])\n",
        "print(\"SFS Accuracy :\",alg.accuracy(trained,d2[:,0]))\n",
        "\n",
        "selected = SBS(d0[:,1:],d0[:,0],d1[:,1:],d1[:,0],10)+1\n",
        "print(\"Atributos Selecionados pelo SBS :\",selected)\n",
        "trained = alg.kNN(train[:,selected],train[:,0],d2[:,selected])\n",
        "print(\"SFS Accuracy :\",alg.accuracy(trained,d2[:,0]))\n"
      ],
      "execution_count": 7,
      "outputs": [
        {
          "output_type": "stream",
          "text": [
            "Atributos Selecionados pelo SFS : [ 7  1  6 11  8  2  9  3 12  4]\n",
            "SFS Accuracy : 0.8813559322033898\n",
            "Atributos Selecionados pelo SBS : [ 1  2  3  6  7  8  9 10 11 12]\n",
            "SFS Accuracy : 0.8983050847457628\n"
          ],
          "name": "stdout"
        }
      ]
    },
    {
      "metadata": {
        "id": "apiLvRGolvIG",
        "colab_type": "code",
        "colab": {
          "autoexec": {
            "startup": false,
            "wait_interval": 0
          }
        }
      },
      "cell_type": "code",
      "source": [
        ""
      ],
      "execution_count": 0,
      "outputs": []
    },
    {
      "metadata": {
        "id": "UboUYoDpEmWd",
        "colab_type": "text"
      },
      "cell_type": "markdown",
      "source": [
        "### Letra C\n",
        "\n",
        "Realize o mesmo procedimento de a) e b), mas agora selecionando os atributos usando duas partes para treinamento e validando sobre as mesmas duas partes. Após determinar os atributos, obtenha a acurácia sobre a terceira parte. A acurácia sobre a terceira parte foi melhor, igual ou pior do que as obtidas nas letras a) e b)? Esse era o resultado esperado? Por quê?"
      ]
    },
    {
      "metadata": {
        "id": "GlXxn9lbk_U5",
        "colab_type": "text"
      },
      "cell_type": "markdown",
      "source": [
        "Como esperado, ao utilizarmos a mesma base para treino e validação da seleção os a acurácia cai um pouco, pois o algoitmo acaba se adaptando aos dados específicos e não ao comportamento geral dos dados. Este comportamento é denominado overfitting, onde o algoritmo se adapta muito bem a base de testes, mas não ao contexto geral"
      ]
    },
    {
      "metadata": {
        "id": "n6ONQSe-Ers3",
        "colab_type": "code",
        "colab": {
          "autoexec": {
            "startup": false,
            "wait_interval": 0
          },
          "base_uri": "https://localhost:8080/",
          "height": 168
        },
        "outputId": "e5d9775f-0a29-408b-b14e-ff4debdb8252",
        "executionInfo": {
          "status": "ok",
          "timestamp": 1528682511775,
          "user_tz": 180,
          "elapsed": 27073,
          "user": {
            "displayName": "Renan Sarcinelli",
            "photoUrl": "//lh4.googleusercontent.com/-ymt9ELp1G0w/AAAAAAAAAAI/AAAAAAAAEsg/iSBFlIdzPFk/s50-c-k-no/photo.jpg",
            "userId": "112343690181629890042"
          }
        }
      },
      "cell_type": "code",
      "source": [
        "selected = SFS(train[:,1:],train[:,0],train[:,1:],train[:,0],5)+1\n",
        "print(\"5 Atributos Selecionados pelo SFS :\",selected)\n",
        "trained = alg.kNN(train[:,selected],train[:,0],d2[:,selected])\n",
        "print(\"SFS Accuracy :\",alg.accuracy(trained,d2[:,0]))\n",
        "\n",
        "selected = SFS(train[:,1:],train[:,0],train[:,1:],train[:,0],10)+1\n",
        "print(\"10 Atributos Selecionados pelo SFS :\",selected)\n",
        "trained = alg.kNN(train[:,selected],train[:,0],d2[:,selected])\n",
        "print(\"SFS Accuracy :\",alg.accuracy(trained,d2[:,0]))\n",
        "\n",
        "\n",
        "selected = SBS(train[:,1:],train[:,0],train[:,1:],train[:,0],5)+1\n",
        "print(\"5 Atributos Selecionados pelo SBS :\",selected)\n",
        "trained = alg.kNN(train[:,selected],train[:,0],d2[:,selected])\n",
        "print(\"SFS Accuracy :\",alg.accuracy(trained,d2[:,0]))\n",
        "\n",
        "selected = SBS(train[:,1:],train[:,0],train[:,1:],train[:,0],10)+1\n",
        "print(\"10 Atributos Selecionados pelo SBS :\",selected)\n",
        "trained = alg.kNN(train[:,selected],train[:,0],d2[:,selected])\n",
        "print(\"SFS Accuracy :\",alg.accuracy(trained,d2[:,0]))"
      ],
      "execution_count": 9,
      "outputs": [
        {
          "output_type": "stream",
          "text": [
            "5 Atributos Selecionados pelo SFS : [10  1  2  3  4]\n",
            "SFS Accuracy : 0.7627118644067796\n",
            "10 Atributos Selecionados pelo SFS : [10  1  2  3  4  5  6  7  8  9]\n",
            "SFS Accuracy : 0.8305084745762712\n",
            "5 Atributos Selecionados pelo SBS : [ 9 10 11 12 13]\n",
            "SFS Accuracy : 0.6949152542372882\n",
            "10 Atributos Selecionados pelo SBS : [ 4  5  6  7  8  9 10 11 12 13]\n",
            "SFS Accuracy : 0.7796610169491526\n"
          ],
          "name": "stdout"
        }
      ]
    }
  ]
}